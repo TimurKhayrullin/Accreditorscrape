{
 "cells": [
  {
   "cell_type": "code",
   "execution_count": 1,
   "metadata": {},
   "outputs": [],
   "source": [
    "import bs4\n",
    "import requests\n",
    "import pandas"
   ]
  },
  {
   "cell_type": "code",
   "execution_count": 2,
   "metadata": {},
   "outputs": [
    {
     "data": {
      "text/plain": [
       "<table align=\"center\" border=\"0\" cellpadding=\"3\" cellspacing=\"0\">\n",
       "<tbody><tr>\n",
       "<td align=\"center\" class=\"TableHeading\" colspan=\"5\"><b>Information Security Management Systems</b> </td>\n",
       "</tr>\n",
       "<tr>\n",
       "<td align=\"center\" class=\"TablesubHeading\"><strong>Sl.No.</strong></td>\n",
       "<td align=\"center\" class=\"TablesubHeading\"><b>Accreditation \n",
       "              No.</b></td>\n",
       "<td align=\"left\" class=\"TablesubHeading\"><b>Name of the Certification Bodies</b></td>\n",
       "<td align=\"center\" class=\"TablesubHeading\">Valid From</td>\n",
       "<td align=\"center\" class=\"TablesubHeading\"><b>Valid Upto </b></td>\n",
       "</tr>\n",
       "<tr>\n",
       "<td align=\"center\" class=\"col2\" valign=\"top\"><strong>1</strong></td>\n",
       "<td align=\"center\" class=\"col1\" valign=\"top\"><b>ISMS006</b></td>\n",
       "<td align=\"left\" class=\"col1\" valign=\"top\"><a href=\"javascript:;\" onclick=\"MM_openBrWindow('ISO27701/ISO27701.php','MQA','scrollbars=yes,resizable=yes,width=800,height=600')\">Bureau Veritas India Pvt. Ltd.</a></td>\n",
       "<td class=\"col1\" valign=\"top\">08 Jan 2020</td>\n",
       "<td align=\"center\" class=\"col1\" valign=\"top\">13 Apr 2023<!-- <br><span style=\"color:red\">\"Accreditation Continues\"</span> --></td>\n",
       "</tr>\n",
       "<tr>\n",
       "<td align=\"center\" class=\"col2\" valign=\"top\"><strong>2</strong></td>\n",
       "<td align=\"center\" class=\"col1\" valign=\"top\"><b>ISMS001</b></td>\n",
       "<td align=\"left\" class=\"col1\" valign=\"top\"><a href=\"javascript:;\" onclick=\"MM_openBrWindow('ISO27701/001-TSSA.php','TSSA','scrollbars=yes,resizable=yes,width=800,height=600')\">TUV SUD South Asia Private Limited</a></td>\n",
       "<td class=\"col1\" valign=\"top\">\t15 Jul  2020</td>\n",
       "<td align=\"center\" class=\"col1\" valign=\"top\">15 Apr 2021</td>\n",
       "</tr>\n",
       "</tbody></table>"
      ]
     },
     "execution_count": 2,
     "metadata": {},
     "output_type": "execute_result"
    }
   ],
   "source": [
    "soup = bs4.BeautifulSoup(open('india 1 table 2.html').read(), \"html.parser\")\n",
    "\n",
    "soup"
   ]
  },
  {
   "cell_type": "code",
   "execution_count": 3,
   "metadata": {},
   "outputs": [
    {
     "data": {
      "text/plain": [
       "[<a href=\"javascript:;\" onclick=\"MM_openBrWindow('ISO27701/ISO27701.php','MQA','scrollbars=yes,resizable=yes,width=800,height=600')\">Bureau Veritas India Pvt. Ltd.</a>,\n",
       " <a href=\"javascript:;\" onclick=\"MM_openBrWindow('ISO27701/001-TSSA.php','TSSA','scrollbars=yes,resizable=yes,width=800,height=600')\">TUV SUD South Asia Private Limited</a>]"
      ]
     },
     "execution_count": 3,
     "metadata": {},
     "output_type": "execute_result"
    }
   ],
   "source": [
    "links = soup.find_all('a', href='javascript:;')\n",
    "links"
   ]
  },
  {
   "cell_type": "code",
   "execution_count": 8,
   "metadata": {},
   "outputs": [
    {
     "data": {
      "text/plain": [
       "['http://nabcb.qci.org.in/accreditation/ISO27701/ISO27701.php',\n",
       " 'http://nabcb.qci.org.in/accreditation/ISO27701/001-TSSA.php']"
      ]
     },
     "execution_count": 8,
     "metadata": {},
     "output_type": "execute_result"
    }
   ],
   "source": [
    "paginationLinks = []\n",
    "baseURL = 'http://nabcb.qci.org.in/accreditation/'\n",
    "for link in links:\n",
    "    tail = link.get('onclick')[17:link.get('onclick').find('php')+3]\n",
    "    paginationLinks.append(baseURL + tail)\n",
    "\n",
    "paginationLinks"
   ]
  },
  {
   "cell_type": "code",
   "execution_count": 17,
   "metadata": {},
   "outputs": [
    {
     "data": {
      "text/plain": [
       "[{'Name': 'Bureau Veritas India Pvt. Ltd. ',\n",
       "  'IAF Scope': '1.       ISO/IEC 27701:2019 \\x96 Security techniques - Extension to ISO/IEC 27001 and ISO/IEC 27002 for privacy information management - Requirements and guidelines'},\n",
       " {'Name': 'TUV SUD South Asia Private Limited',\n",
       "  'IAF Scope': '\\n 1.  ISO/IEC 27701:2019 - Security techniques - Extension to ISO/IEC 27001 and ISO/IEC 27002 for privacy information management\\r\\n\\t\\t\\t\\t\\t- Requirements and guidelines'}]"
      ]
     },
     "execution_count": 17,
     "metadata": {},
     "output_type": "execute_result"
    }
   ],
   "source": [
    "records = []\n",
    "\n",
    "for link in paginationLinks:\n",
    "    soup = bs4.BeautifulSoup(requests.get(link).content)\n",
    "    title = soup.find('td', align='center', class_='heading').get_text()\n",
    "    tableRows = soup.find_all('td', class_='justify')[-2].find_all('tr')\n",
    "    for row in tableRows[1:-1]:\n",
    "        tableData = row.find_all('td')\n",
    "        records.append({'Name': title,\n",
    "                        'IAF Scope': tableData[0].get_text()})\n",
    "\n",
    "records"
   ]
  },
  {
   "cell_type": "code",
   "execution_count": 18,
   "metadata": {},
   "outputs": [
    {
     "data": {
      "text/html": [
       "<div>\n",
       "<style scoped>\n",
       "    .dataframe tbody tr th:only-of-type {\n",
       "        vertical-align: middle;\n",
       "    }\n",
       "\n",
       "    .dataframe tbody tr th {\n",
       "        vertical-align: top;\n",
       "    }\n",
       "\n",
       "    .dataframe thead th {\n",
       "        text-align: right;\n",
       "    }\n",
       "</style>\n",
       "<table border=\"1\" class=\"dataframe\">\n",
       "  <thead>\n",
       "    <tr style=\"text-align: right;\">\n",
       "      <th></th>\n",
       "      <th>Name</th>\n",
       "      <th>IAF Scope</th>\n",
       "    </tr>\n",
       "  </thead>\n",
       "  <tbody>\n",
       "    <tr>\n",
       "      <th>0</th>\n",
       "      <td>Bureau Veritas India Pvt. Ltd.</td>\n",
       "      <td>1.       ISO/IEC 27701:2019  Security techniq...</td>\n",
       "    </tr>\n",
       "    <tr>\n",
       "      <th>1</th>\n",
       "      <td>TUV SUD South Asia Private Limited</td>\n",
       "      <td>\\n 1.  ISO/IEC 27701:2019 - Security technique...</td>\n",
       "    </tr>\n",
       "  </tbody>\n",
       "</table>\n",
       "</div>"
      ],
      "text/plain": [
       "                                 Name  \\\n",
       "0     Bureau Veritas India Pvt. Ltd.    \n",
       "1  TUV SUD South Asia Private Limited   \n",
       "\n",
       "                                           IAF Scope  \n",
       "0  1.       ISO/IEC 27701:2019  Security techniq...  \n",
       "1  \\n 1.  ISO/IEC 27701:2019 - Security technique...  "
      ]
     },
     "execution_count": 18,
     "metadata": {},
     "output_type": "execute_result"
    }
   ],
   "source": [
    "df = pandas.DataFrame(records)\n",
    "\n",
    "df.head()"
   ]
  },
  {
   "cell_type": "code",
   "execution_count": 20,
   "metadata": {},
   "outputs": [],
   "source": [
    "df.to_csv('NABCB ISO Excel.csv')"
   ]
  },
  {
   "cell_type": "code",
   "execution_count": null,
   "metadata": {},
   "outputs": [],
   "source": []
  }
 ],
 "metadata": {
  "kernelspec": {
   "display_name": "Python 3",
   "language": "python",
   "name": "python3"
  },
  "language_info": {
   "codemirror_mode": {
    "name": "ipython",
    "version": 3
   },
   "file_extension": ".py",
   "mimetype": "text/x-python",
   "name": "python",
   "nbconvert_exporter": "python",
   "pygments_lexer": "ipython3",
   "version": "3.8.3"
  }
 },
 "nbformat": 4,
 "nbformat_minor": 4
}
